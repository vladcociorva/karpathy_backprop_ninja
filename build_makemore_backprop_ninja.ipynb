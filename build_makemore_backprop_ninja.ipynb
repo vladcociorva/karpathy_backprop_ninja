{
 "cells": [
  {
   "cell_type": "markdown",
   "metadata": {
    "id": "rToK0Tku8PPn"
   },
   "source": [
    "## makemore: becoming a backprop ninja"
   ]
  },
  {
   "cell_type": "code",
   "execution_count": 1,
   "metadata": {
    "id": "8sFElPqq8PPp"
   },
   "outputs": [],
   "source": [
    "# there no change change in the first several cells from last lecture"
   ]
  },
  {
   "cell_type": "code",
   "execution_count": 1,
   "metadata": {
    "id": "ChBbac4y8PPq"
   },
   "outputs": [],
   "source": [
    "import torch\n",
    "import torch.nn.functional as F\n",
    "import matplotlib.pyplot as plt # for making figures\n",
    "%matplotlib inline"
   ]
  },
  {
   "cell_type": "code",
   "execution_count": 3,
   "metadata": {
    "id": "x6GhEWW18aCS"
   },
   "outputs": [
    {
     "name": "stdout",
     "output_type": "stream",
     "text": [
      "--2024-02-17 19:23:33--  https://raw.githubusercontent.com/karpathy/makemore/master/names.txt\n",
      "Resolving raw.githubusercontent.com (raw.githubusercontent.com)... 2606:50c0:8001::154, 2606:50c0:8003::154, 2606:50c0:8002::154, ...\n",
      "Connecting to raw.githubusercontent.com (raw.githubusercontent.com)|2606:50c0:8001::154|:443... connected.\n",
      "HTTP request sent, awaiting response... 200 OK\n",
      "Length: 228145 (223K) [text/plain]\n",
      "Saving to: ‘names.txt’\n",
      "\n",
      "names.txt           100%[===================>] 222,80K  --.-KB/s    in 0,09s   \n",
      "\n",
      "2024-02-17 19:23:34 (2,37 MB/s) - ‘names.txt’ saved [228145/228145]\n",
      "\n"
     ]
    }
   ],
   "source": [
    "# download the names.txt file from github\n",
    "!wget https://raw.githubusercontent.com/karpathy/makemore/master/names.txt"
   ]
  },
  {
   "cell_type": "code",
   "execution_count": 2,
   "metadata": {
    "id": "klmu3ZG08PPr"
   },
   "outputs": [
    {
     "name": "stdout",
     "output_type": "stream",
     "text": [
      "32033\n",
      "15\n",
      "['emma', 'olivia', 'ava', 'isabella', 'sophia', 'charlotte', 'mia', 'amelia']\n"
     ]
    }
   ],
   "source": [
    "# read in all the words\n",
    "words = open('names.txt', 'r').read().splitlines()\n",
    "print(len(words))\n",
    "print(max(len(w) for w in words))\n",
    "print(words[:8])"
   ]
  },
  {
   "cell_type": "code",
   "execution_count": 3,
   "metadata": {
    "id": "BCQomLE_8PPs"
   },
   "outputs": [
    {
     "name": "stdout",
     "output_type": "stream",
     "text": [
      "{1: 'a', 2: 'b', 3: 'c', 4: 'd', 5: 'e', 6: 'f', 7: 'g', 8: 'h', 9: 'i', 10: 'j', 11: 'k', 12: 'l', 13: 'm', 14: 'n', 15: 'o', 16: 'p', 17: 'q', 18: 'r', 19: 's', 20: 't', 21: 'u', 22: 'v', 23: 'w', 24: 'x', 25: 'y', 26: 'z', 0: '.'}\n",
      "27\n"
     ]
    }
   ],
   "source": [
    "# build the vocabulary of characters and mappings to/from integers\n",
    "chars = sorted(list(set(''.join(words))))\n",
    "stoi = {s:i+1 for i,s in enumerate(chars)}\n",
    "stoi['.'] = 0\n",
    "itos = {i:s for s,i in stoi.items()}\n",
    "vocab_size = len(itos)\n",
    "print(itos)\n",
    "print(vocab_size)"
   ]
  },
  {
   "cell_type": "code",
   "execution_count": 4,
   "metadata": {
    "id": "V_zt2QHr8PPs"
   },
   "outputs": [
    {
     "name": "stdout",
     "output_type": "stream",
     "text": [
      "torch.Size([182625, 3]) torch.Size([182625])\n",
      "torch.Size([22655, 3]) torch.Size([22655])\n",
      "torch.Size([22866, 3]) torch.Size([22866])\n"
     ]
    }
   ],
   "source": [
    "# build the dataset\n",
    "block_size = 3 # context length: how many characters do we take to predict the next one?\n",
    "\n",
    "def build_dataset(words):\n",
    "  X, Y = [], []\n",
    "\n",
    "  for w in words:\n",
    "    context = [0] * block_size\n",
    "    for ch in w + '.':\n",
    "      ix = stoi[ch]\n",
    "      X.append(context)\n",
    "      Y.append(ix)\n",
    "      context = context[1:] + [ix] # crop and append\n",
    "\n",
    "  X = torch.tensor(X)\n",
    "  Y = torch.tensor(Y)\n",
    "  print(X.shape, Y.shape)\n",
    "  return X, Y\n",
    "\n",
    "import random\n",
    "random.seed(42)\n",
    "random.shuffle(words)\n",
    "n1 = int(0.8*len(words))\n",
    "n2 = int(0.9*len(words))\n",
    "\n",
    "Xtr,  Ytr  = build_dataset(words[:n1])     # 80%\n",
    "Xdev, Ydev = build_dataset(words[n1:n2])   # 10%\n",
    "Xte,  Yte  = build_dataset(words[n2:])     # 10%"
   ]
  },
  {
   "cell_type": "code",
   "execution_count": 5,
   "metadata": {
    "id": "eg20-vsg8PPt"
   },
   "outputs": [],
   "source": [
    "# ok biolerplate done, now we get to the action:"
   ]
  },
  {
   "cell_type": "code",
   "execution_count": 6,
   "metadata": {
    "id": "MJPU8HT08PPu"
   },
   "outputs": [],
   "source": [
    "# utility function we will use later when comparing manual gradients to PyTorch gradients\n",
    "def cmp(s, dt, t):\n",
    "  ex = torch.all(dt == t.grad).item()\n",
    "  app = torch.allclose(dt, t.grad)\n",
    "  maxdiff = (dt - t.grad).abs().max().item()\n",
    "  print(f'{s:15s} | exact: {str(ex):5s} | approximate: {str(app):5s} | maxdiff: {maxdiff}')"
   ]
  },
  {
   "cell_type": "code",
   "execution_count": 7,
   "metadata": {
    "id": "ZlFLjQyT8PPu"
   },
   "outputs": [
    {
     "name": "stdout",
     "output_type": "stream",
     "text": [
      "4137\n"
     ]
    }
   ],
   "source": [
    "n_embd = 10 # the dimensionality of the character embedding vectors\n",
    "n_hidden = 64 # the number of neurons in the hidden layer of the MLP\n",
    "\n",
    "g = torch.Generator().manual_seed(2147483647) # for reproducibility\n",
    "C  = torch.randn((vocab_size, n_embd),            generator=g)\n",
    "# Layer 1\n",
    "W1 = torch.randn((n_embd * block_size, n_hidden), generator=g) * (5/3)/((n_embd * block_size)**0.5)\n",
    "b1 = torch.randn(n_hidden,                        generator=g) * 0.1 # using b1 just for fun, it's useless because of BN\n",
    "# Layer 2\n",
    "W2 = torch.randn((n_hidden, vocab_size),          generator=g) * 0.1\n",
    "b2 = torch.randn(vocab_size,                      generator=g) * 0.1\n",
    "# BatchNorm parameters\n",
    "bngain = torch.randn((1, n_hidden))*0.1 + 1.0\n",
    "bnbias = torch.randn((1, n_hidden))*0.1\n",
    "\n",
    "# Note: I am initializating many of these parameters in non-standard ways\n",
    "# because sometimes initializating with e.g. all zeros could mask an incorrect\n",
    "# implementation of the backward pass.\n",
    "\n",
    "parameters = [C, W1, b1, W2, b2, bngain, bnbias]\n",
    "print(sum(p.nelement() for p in parameters)) # number of parameters in total\n",
    "for p in parameters:\n",
    "  p.requires_grad = True"
   ]
  },
  {
   "cell_type": "code",
   "execution_count": 8,
   "metadata": {
    "id": "QY-y96Y48PPv"
   },
   "outputs": [],
   "source": [
    "batch_size = 32\n",
    "n = batch_size # a shorter variable also, for convenience\n",
    "# construct a minibatch\n",
    "ix = torch.randint(0, Xtr.shape[0], (batch_size,), generator=g)\n",
    "Xb, Yb = Xtr[ix], Ytr[ix] # batch X,Y"
   ]
  },
  {
   "cell_type": "code",
   "execution_count": 9,
   "metadata": {
    "id": "8ofj1s6d8PPv"
   },
   "outputs": [
    {
     "data": {
      "text/plain": [
       "tensor(3.3369, grad_fn=<NegBackward0>)"
      ]
     },
     "execution_count": 9,
     "metadata": {},
     "output_type": "execute_result"
    }
   ],
   "source": [
    "# forward pass, \"chunkated\" into smaller steps that are possible to backward one at a time\n",
    "\n",
    "emb = C[Xb] # embed the characters into vectors\n",
    "embcat = emb.view(emb.shape[0], -1) # concatenate the vectors\n",
    "# Linear layer 1\n",
    "hprebn = embcat @ W1 + b1 # hidden layer pre-activation\n",
    "# BatchNorm layer\n",
    "bnmeani = 1/n*hprebn.sum(0, keepdim=True)\n",
    "bndiff = hprebn - bnmeani\n",
    "bndiff2 = bndiff**2\n",
    "bnvar = 1/(n-1)*(bndiff2).sum(0, keepdim=True) # note: Bessel's correction (dividing by n-1, not n)\n",
    "bnvar_inv = (bnvar + 1e-5)**-0.5\n",
    "bnraw = bndiff * bnvar_inv\n",
    "hpreact = bngain * bnraw + bnbias\n",
    "# Non-linearity\n",
    "h = torch.tanh(hpreact) # hidden layer\n",
    "# Linear layer 2\n",
    "logits = h @ W2 + b2 # output layer\n",
    "# cross entropy loss (same as F.cross_entropy(logits, Yb))\n",
    "logit_maxes = logits.max(1, keepdim=True).values\n",
    "norm_logits = logits - logit_maxes # subtract max for numerical stability\n",
    "counts = norm_logits.exp()\n",
    "counts_sum = counts.sum(1, keepdims=True)\n",
    "counts_sum_inv = counts_sum**-1 # if I use (1.0 / counts_sum) instead then I can't get backprop to be bit exact...\n",
    "probs = counts * counts_sum_inv\n",
    "logprobs = probs.log()\n",
    "loss = -logprobs[range(n), Yb].mean()\n",
    "\n",
    "# PyTorch backward pass\n",
    "for p in parameters:\n",
    "  p.grad = None\n",
    "for t in [logprobs, probs, counts, counts_sum, counts_sum_inv, # afaik there is no cleaner way\n",
    "          norm_logits, logit_maxes, logits, h, hpreact, bnraw,\n",
    "         bnvar_inv, bnvar, bndiff2, bndiff, hprebn, bnmeani,\n",
    "         embcat, emb]:\n",
    "  t.retain_grad()\n",
    "loss.backward()\n",
    "loss"
   ]
  },
  {
   "cell_type": "code",
   "execution_count": 11,
   "metadata": {
    "id": "mO-8aqxK8PPw"
   },
   "outputs": [
    {
     "name": "stdout",
     "output_type": "stream",
     "text": [
      "logprobs        | exact: True  | approximate: True  | maxdiff: 0.0\n",
      "probs           | exact: True  | approximate: True  | maxdiff: 0.0\n",
      "counts_sum_inv  | exact: True  | approximate: True  | maxdiff: 0.0\n",
      "counts_sum      | exact: True  | approximate: True  | maxdiff: 0.0\n",
      "counts          | exact: True  | approximate: True  | maxdiff: 0.0\n",
      "norm_logits     | exact: True  | approximate: True  | maxdiff: 0.0\n",
      "logit_maxes     | exact: True  | approximate: True  | maxdiff: 0.0\n",
      "logits          | exact: True  | approximate: True  | maxdiff: 0.0\n",
      "h               | exact: True  | approximate: True  | maxdiff: 0.0\n",
      "W2              | exact: True  | approximate: True  | maxdiff: 0.0\n",
      "b2              | exact: True  | approximate: True  | maxdiff: 0.0\n",
      "hpreact         | exact: True  | approximate: True  | maxdiff: 0.0\n",
      "bngain          | exact: True  | approximate: True  | maxdiff: 0.0\n",
      "bnbias          | exact: True  | approximate: True  | maxdiff: 0.0\n",
      "bnraw           | exact: True  | approximate: True  | maxdiff: 0.0\n",
      "bnvar_inv       | exact: True  | approximate: True  | maxdiff: 0.0\n",
      "bnvar           | exact: True  | approximate: True  | maxdiff: 0.0\n",
      "bndiff2         | exact: True  | approximate: True  | maxdiff: 0.0\n",
      "bndiff          | exact: True  | approximate: True  | maxdiff: 0.0\n",
      "bnmeani         | exact: True  | approximate: True  | maxdiff: 0.0\n",
      "hprebn          | exact: True  | approximate: True  | maxdiff: 0.0\n",
      "embcat          | exact: True  | approximate: True  | maxdiff: 0.0\n",
      "W1              | exact: True  | approximate: True  | maxdiff: 0.0\n",
      "b1              | exact: True  | approximate: True  | maxdiff: 0.0\n",
      "emb             | exact: True  | approximate: True  | maxdiff: 0.0\n",
      "C               | exact: True  | approximate: True  | maxdiff: 0.0\n"
     ]
    }
   ],
   "source": [
    "# Exercise 1: backprop through the whole thing manually,\n",
    "# backpropagating through exactly all of the variables\n",
    "# as they are defined in the forward pass above, one by one\n",
    "\n",
    "dlogprobs = torch.zeros_like(logprobs)\n",
    "dlogprobs[range(n), Yb] = -1.0/n\n",
    "\n",
    "dprobs = (1.0 / probs) * dlogprobs\n",
    "dcounts_sum_inv = (counts * dprobs).sum(1, keepdim=True)  # counts_sum_inv is broadcasted on the 1st dim\n",
    "dcounts = counts_sum_inv * dprobs\n",
    "\n",
    "dcounts_sum = (-counts_sum**-2) * dcounts_sum_inv\n",
    "\n",
    "dcounts += torch.ones_like(counts) * dcounts_sum\n",
    "\n",
    "dnorm_logits = norm_logits.exp() * dcounts\n",
    "\n",
    "dlogit_maxes = (-1.0 * dnorm_logits).sum(1, keepdim=True)  # logit_maxes is broadcasted on the 1st dim\n",
    "\n",
    "dlogits = dnorm_logits.clone()\n",
    "\n",
    "tmp = torch.zeros_like(logits)\n",
    "tmp[range(n), logits.max(1).indices] = 1.0\n",
    "dlogits += tmp * dlogit_maxes\n",
    "\n",
    "dh = dlogits @ W2.T\n",
    "dW2 = h.T @ dlogits\n",
    "db2 = dlogits.sum(0, keepdim=True)\n",
    "\n",
    "dhpreact = (1 - h**2) * dh\n",
    "\n",
    "dbngain = (bnraw * dhpreact).sum(0, keepdim=True)  # bngain is broadcasted on the 0th dim\n",
    "dbnbias = dhpreact.sum(0, keepdim=True)           \n",
    "dbnraw = bngain * dhpreact\n",
    "\n",
    "dbnvar_inv = (bndiff * dbnraw).sum(0, keepdim=True) # bnvar_inv is broadcasted on the 0th dim\n",
    "dbndiff = bnvar_inv * dbnraw\n",
    "dbnvar = (-0.5 * ((bnvar + 1e-5)**-1.5)) * 1.0 * dbnvar_inv\n",
    "\n",
    "dbndiff2 = ((1/(n-1)) * torch.ones_like(bndiff2)) * dbnvar\n",
    "dbndiff += 2 * bndiff * dbndiff2\n",
    "\n",
    "dbnmeani = (-1.0 * dbndiff).sum(0, keepdim=True)\n",
    "dhprebn = dbndiff.clone()\n",
    "dhprebn += ((1/n) * torch.ones_like(hprebn)) * dbnmeani\n",
    "\n",
    "dembcat = dhprebn @ W1.T\n",
    "dW1 = embcat.T @ dhprebn\n",
    "db1 = dhprebn.sum(0, keepdim=True)\n",
    "\n",
    "demb = dembcat.view(emb.shape)\n",
    "\n",
    "# Xb - 32 train examples of 3 letters \n",
    "# backward demb = [32, 3, 10] - 32 examples of 3 10 dim letter embeddings\n",
    "# route the grads back to the specific letter entries in C\n",
    "dC = torch.zeros_like(C)\n",
    "for i in range(Xb.shape[0]):\n",
    "  for j in range(Xb.shape[1]):\n",
    "    c_idx = Xb[i,j]\n",
    "    dC[c_idx] += demb[i,j]\n",
    "\n",
    "\n",
    "cmp('logprobs', dlogprobs, logprobs)\n",
    "cmp('probs', dprobs, probs)\n",
    "cmp('counts_sum_inv', dcounts_sum_inv, counts_sum_inv)\n",
    "cmp('counts_sum', dcounts_sum, counts_sum)\n",
    "cmp('counts', dcounts, counts)\n",
    "cmp('norm_logits', dnorm_logits, norm_logits)\n",
    "cmp('logit_maxes', dlogit_maxes, logit_maxes)\n",
    "cmp('logits', dlogits, logits)\n",
    "cmp('h', dh, h)\n",
    "cmp('W2', dW2, W2)\n",
    "cmp('b2', db2, b2)\n",
    "cmp('hpreact', dhpreact, hpreact)\n",
    "cmp('bngain', dbngain, bngain)\n",
    "cmp('bnbias', dbnbias, bnbias)\n",
    "cmp('bnraw', dbnraw, bnraw)\n",
    "cmp('bnvar_inv', dbnvar_inv, bnvar_inv)\n",
    "cmp('bnvar', dbnvar, bnvar)\n",
    "cmp('bndiff2', dbndiff2, bndiff2)\n",
    "cmp('bndiff', dbndiff, bndiff)\n",
    "cmp('bnmeani', dbnmeani, bnmeani)\n",
    "cmp('hprebn', dhprebn, hprebn)\n",
    "cmp('embcat', dembcat, embcat)\n",
    "cmp('W1', dW1, W1)\n",
    "cmp('b1', db1, b1)\n",
    "cmp('emb', demb, emb)\n",
    "cmp('C', dC, C)"
   ]
  },
  {
   "cell_type": "code",
   "execution_count": 12,
   "metadata": {
    "id": "ebLtYji_8PPw"
   },
   "outputs": [
    {
     "name": "stdout",
     "output_type": "stream",
     "text": [
      "3.336890459060669 diff: 4.76837158203125e-07\n"
     ]
    }
   ],
   "source": [
    "# Exercise 2: backprop through cross_entropy but all in one go\n",
    "# to complete this challenge look at the mathematical expression of the loss,\n",
    "# take the derivative, simplify the expression, and just write it out\n",
    "\n",
    "# forward pass\n",
    "\n",
    "# before:\n",
    "# logit_maxes = logits.max(1, keepdim=True).values\n",
    "# norm_logits = logits - logit_maxes # subtract max for numerical stability\n",
    "# counts = norm_logits.exp()\n",
    "# counts_sum = counts.sum(1, keepdims=True)\n",
    "# counts_sum_inv = counts_sum**-1 # if I use (1.0 / counts_sum) instead then I can't get backprop to be bit exact...\n",
    "# probs = counts * counts_sum_inv\n",
    "# logprobs = probs.log()\n",
    "# loss = -logprobs[range(n), Yb].mean()\n",
    "\n",
    "# now:\n",
    "loss_fast = F.cross_entropy(logits, Yb)\n",
    "print(loss_fast.item(), 'diff:', (loss_fast - loss).item())"
   ]
  },
  {
   "cell_type": "code",
   "execution_count": 13,
   "metadata": {},
   "outputs": [
    {
     "data": {
      "text/plain": [
       "(torch.Size([32, 27]),\n",
       " torch.Size([32]),\n",
       " tensor([[ 6.8954e-01,  1.0237e+00, -5.1150e-01,  4.2602e-01, -4.0657e-01,\n",
       "           9.2450e-01, -2.0077e-01,  4.2829e-02, -4.9999e-01,  4.7666e-02,\n",
       "           1.1735e-01,  5.7949e-02,  9.5185e-02, -1.1261e-03,  1.8408e-01,\n",
       "          -8.1960e-01, -1.2501e+00, -4.8699e-01, -6.2798e-01,  4.6970e-01,\n",
       "           4.8613e-01, -3.2025e-01, -2.0888e-01,  8.4362e-01,  6.4038e-01,\n",
       "          -1.5808e-01, -4.4232e-01],\n",
       "         [ 1.7153e-01,  3.4165e-01,  8.9735e-01,  3.0561e-01, -9.2022e-02,\n",
       "          -2.4104e-01, -6.8050e-01,  1.3504e-01, -6.0833e-01, -4.3300e-01,\n",
       "           1.0643e-01,  3.4584e-02,  3.9604e-02, -1.7692e-01,  1.7325e-01,\n",
       "          -2.8923e-02, -3.6600e-01, -8.6784e-01, -6.2487e-01, -1.6228e-01,\n",
       "          -6.8215e-01, -4.7941e-01, -1.0622e+00,  5.3122e-01, -4.8266e-01,\n",
       "          -8.0090e-02, -4.8890e-01],\n",
       "         [-5.6282e-01, -3.6581e-01, -7.9058e-01, -9.6914e-01, -3.8286e-01,\n",
       "           2.2929e-01,  5.9720e-01,  6.3189e-01,  6.1132e-01, -4.6948e-03,\n",
       "          -5.7797e-01, -5.1663e-02,  2.5109e-01,  5.2651e-01, -3.1960e-01,\n",
       "          -3.1073e-01, -8.5442e-01, -2.7722e-02, -1.0763e-01,  1.1080e+00,\n",
       "           7.2257e-01,  1.6906e-01,  2.4961e-01,  2.2082e-01,  1.8689e-01,\n",
       "          -4.6995e-01, -1.9838e-01],\n",
       "         [-2.8449e-01, -2.5379e-01,  2.4468e-01,  4.0013e-01,  4.8761e-01,\n",
       "          -2.9252e-01,  3.3275e-01,  1.4098e-01,  3.8794e-01, -5.8162e-01,\n",
       "          -2.7473e-02, -4.4049e-01, -1.0145e-01,  2.9626e-01,  5.4594e-01,\n",
       "           5.9732e-01, -3.8470e-01, -3.9212e-01, -6.5673e-01,  2.8819e-01,\n",
       "          -6.5580e-01, -3.1187e-01,  8.0535e-02, -5.1651e-01, -2.9449e-01,\n",
       "           2.9689e-01,  1.5236e-01],\n",
       "         [-7.5164e-01, -6.0689e-01, -2.2402e-01, -3.4641e-01, -6.1892e-01,\n",
       "           2.1761e-01,  1.2044e-01, -6.1700e-01,  6.4305e-01,  2.2867e-01,\n",
       "          -1.9080e-02, -7.7303e-01,  1.7172e-01, -1.7944e-01,  4.2558e-01,\n",
       "           1.6424e+00, -4.9347e-01,  4.6411e-01,  5.2512e-01,  5.6165e-01,\n",
       "           3.0135e-01, -6.4032e-01, -3.1124e-01, -7.3470e-01,  2.9653e-01,\n",
       "          -3.3783e-01,  2.7919e-01],\n",
       "         [-9.7146e-02,  1.3039e-01,  5.9539e-01,  6.6586e-01,  6.7700e-01,\n",
       "          -2.6642e-01, -5.2210e-02,  5.0111e-01, -1.8257e-01, -6.4384e-01,\n",
       "           1.9151e-01, -7.3310e-01, -1.7978e-01,  4.1793e-01,  7.2537e-01,\n",
       "           4.4400e-01, -6.7446e-01, -4.8627e-01, -1.0352e+00, -1.8850e-01,\n",
       "          -7.4112e-03, -1.9431e-02,  3.1383e-01, -5.9610e-01, -5.9738e-01,\n",
       "           9.0030e-01,  2.7147e-01],\n",
       "         [ 3.0066e-01, -1.0874e+00,  5.9103e-01, -9.7003e-01, -2.4479e-01,\n",
       "          -6.2067e-01,  5.9326e-01,  3.8715e-01,  2.8419e-01,  2.0600e-01,\n",
       "          -7.6855e-01, -1.0370e-01, -3.5244e-01, -6.3892e-01, -8.3356e-01,\n",
       "           6.1539e-01,  8.1534e-01,  1.3987e-01, -1.2416e+00, -2.1235e-01,\n",
       "          -2.9156e-01,  3.3023e-01,  2.2997e-01, -5.0045e-01,  7.2897e-02,\n",
       "          -4.3968e-01, -2.4024e-01],\n",
       "         [ 3.3345e-01,  1.2602e-01, -6.3262e-02,  1.4181e+00, -1.1339e-01,\n",
       "           6.0645e-01,  7.2943e-02,  1.0480e+00,  2.2665e-01, -1.1673e+00,\n",
       "          -3.4621e-02, -7.4787e-01, -3.7997e-01,  8.0290e-01, -3.9530e-01,\n",
       "          -6.1226e-01, -7.3574e-01, -7.3628e-01, -5.6000e-01,  1.1294e+00,\n",
       "           1.4770e-01,  5.8383e-01, -4.8276e-02,  2.3245e-01, -1.3595e-01,\n",
       "           7.0145e-01,  2.0325e-01],\n",
       "         [ 3.8346e-01, -3.3581e-02, -5.4042e-01,  1.1824e-01, -1.0627e+00,\n",
       "           2.7753e-01,  6.1553e-01,  9.9466e-01, -1.2725e-01, -3.1256e-01,\n",
       "          -7.7004e-02, -1.5456e-02,  1.3549e-01, -1.4630e-01, -8.9304e-01,\n",
       "          -5.8014e-01, -4.3920e-01,  1.7880e-01, -2.8402e-01,  9.2431e-01,\n",
       "           1.7465e-01,  1.0783e+00,  3.7091e-01,  4.2396e-01,  3.5411e-01,\n",
       "          -6.4272e-01,  1.3430e-02],\n",
       "         [-2.8155e-01, -7.4082e-01, -4.0802e-02, -5.3140e-01, -1.4391e-01,\n",
       "           1.3112e-01,  1.2125e-01, -9.9982e-02,  9.9618e-01,  7.3813e-01,\n",
       "          -9.5744e-01, -1.1344e-02,  2.1306e-01,  3.7969e-01, -2.3094e-01,\n",
       "          -1.7346e-01,  6.5139e-01,  3.4841e-01,  3.1825e-01, -3.1042e-01,\n",
       "           7.8342e-01, -1.7662e-01,  6.3617e-01, -3.9021e-01, -1.9935e-02,\n",
       "           1.4098e-01, -5.1265e-01],\n",
       "         [-6.1389e-01, -1.2133e+00,  4.2192e-01,  4.9334e-01,  1.6781e-01,\n",
       "           3.3769e-01, -3.1259e-01, -1.4466e+00,  4.1745e-01,  6.1530e-01,\n",
       "          -9.9708e-02, -4.0785e-01,  7.5301e-01,  2.5556e-01,  4.5254e-01,\n",
       "           1.6681e+00,  6.6032e-01,  8.0408e-01,  1.1839e+00,  3.0600e-01,\n",
       "           6.2168e-01, -8.3501e-01, -7.6180e-01, -1.4648e-01,  3.6431e-01,\n",
       "           1.4893e-01, -9.7557e-02],\n",
       "         [-1.4816e-01,  2.4226e-01, -6.4973e-02,  1.8946e+00, -7.9976e-01,\n",
       "           7.6756e-01,  9.3923e-01,  5.4009e-01,  5.3679e-01,  3.1294e-01,\n",
       "          -5.5176e-01, -2.9596e-01, -1.5801e-01,  1.4492e-01, -1.2283e+00,\n",
       "          -1.3732e+00, -1.9158e-01,  3.3129e-01, -4.1257e-01,  7.0956e-01,\n",
       "           7.2845e-01,  5.3609e-01, -1.7888e-01,  3.7246e-01,  5.8702e-01,\n",
       "           6.1079e-01, -4.9977e-01],\n",
       "         [-7.3231e-01, -8.3542e-01,  4.4623e-01, -8.0102e-01, -2.6751e-01,\n",
       "          -7.4578e-01,  9.2399e-01,  1.2522e-01,  6.2864e-01,  5.4743e-01,\n",
       "          -7.3756e-01,  9.3184e-04,  2.0541e-01,  1.0304e-02, -7.0336e-01,\n",
       "           2.6072e-01,  8.0354e-01,  3.6172e-01,  3.3205e-01, -3.9276e-01,\n",
       "           4.1573e-01,  2.3514e-01,  9.9953e-01, -1.0338e+00, -3.9392e-01,\n",
       "          -2.2272e-01, -1.5621e-01],\n",
       "         [-4.9941e-01, -1.9540e-01,  5.0549e-01, -5.6144e-01, -7.3833e-01,\n",
       "           7.2589e-01, -1.8902e-01, -8.2517e-01, -1.5467e-01,  3.7993e-01,\n",
       "          -2.5072e-01, -1.1382e-01,  6.6302e-01,  2.2779e-01,  4.3050e-01,\n",
       "           2.6775e-01, -1.1920e-01, -4.4029e-02,  9.4984e-01, -9.2837e-01,\n",
       "           6.3921e-01, -7.7169e-01, -7.0228e-01,  7.2811e-02,  4.6786e-02,\n",
       "           1.0179e-01,  2.7029e-02],\n",
       "         [ 2.0034e-01, -2.6051e-01, -7.5144e-02,  4.4421e-01, -6.4451e-01,\n",
       "          -2.3719e-02, -2.3174e-02,  4.6512e-01,  5.0796e-01,  4.3790e-01,\n",
       "          -1.0189e-01,  1.4060e-01,  3.6998e-01,  2.9230e-01, -1.2850e-01,\n",
       "          -3.4876e-01, -4.0234e-01,  4.6281e-01, -9.1576e-02,  2.8857e-01,\n",
       "           4.9127e-01,  4.9373e-01, -2.6767e-01,  1.1258e-01, -4.0823e-01,\n",
       "          -4.3848e-01, -4.4725e-01],\n",
       "         [ 9.4347e-03,  5.2380e-01, -9.0504e-02, -7.4291e-01, -7.0857e-01,\n",
       "           7.2103e-01, -1.7990e-01, -5.1236e-01, -2.1821e-01,  3.6839e-01,\n",
       "          -1.7256e-01,  9.9038e-02,  4.7280e-01, -7.2033e-01, -2.4401e-01,\n",
       "          -8.0911e-01,  1.0281e-01, -6.7153e-01,  4.2910e-01, -7.9757e-01,\n",
       "           4.7948e-03, -3.3376e-01, -1.3475e-01,  6.4665e-01,  4.0476e-01,\n",
       "          -2.8457e-01, -5.8512e-01],\n",
       "         [-3.0672e-01, -2.3543e-01,  1.0286e+00,  3.0336e-01,  5.8258e-01,\n",
       "           3.5220e-01, -6.9962e-01, -2.2318e-01, -5.2039e-01, -5.0693e-01,\n",
       "           3.5945e-01, -5.3106e-01,  1.2346e-01,  6.7523e-01,  7.3859e-01,\n",
       "           6.6230e-01, -7.7219e-01, -6.7389e-01, -2.5135e-01,  1.8964e-01,\n",
       "          -2.0779e-01, -6.6936e-01, -1.2976e+00,  4.1620e-01, -3.3739e-01,\n",
       "           3.1549e-01,  4.3572e-01],\n",
       "         [ 1.7046e-01,  8.0980e-01,  3.5424e-01,  4.2061e-01,  1.0675e-01,\n",
       "          -9.9350e-02, -4.8852e-01,  6.9224e-01, -3.2109e-01, -7.4535e-01,\n",
       "           5.7813e-01, -1.0678e+00, -4.7688e-01, -5.0570e-01,  1.2774e-01,\n",
       "          -1.9171e-01, -9.1031e-01, -1.6266e-01, -7.2487e-01,  2.8691e-01,\n",
       "          -5.5512e-01,  2.6356e-01, -3.2725e-01, -6.2015e-01, -3.8373e-01,\n",
       "           1.6913e-01,  4.9329e-01],\n",
       "         [-7.3231e-01, -8.3542e-01,  4.4623e-01, -8.0102e-01, -2.6751e-01,\n",
       "          -7.4578e-01,  9.2399e-01,  1.2522e-01,  6.2864e-01,  5.4743e-01,\n",
       "          -7.3756e-01,  9.3184e-04,  2.0541e-01,  1.0304e-02, -7.0336e-01,\n",
       "           2.6072e-01,  8.0354e-01,  3.6172e-01,  3.3205e-01, -3.9276e-01,\n",
       "           4.1573e-01,  2.3514e-01,  9.9953e-01, -1.0338e+00, -3.9392e-01,\n",
       "          -2.2272e-01, -1.5621e-01],\n",
       "         [-5.7070e-01, -5.1632e-01, -7.0496e-03, -8.8179e-01, -3.3879e-02,\n",
       "          -1.3144e-01,  6.2954e-01,  2.7572e-01, -4.9311e-02,  2.7365e-02,\n",
       "          -3.2105e-01,  5.7598e-02,  4.4591e-01,  5.2759e-01, -8.6590e-01,\n",
       "          -4.5891e-01, -1.8835e-01, -6.5799e-01, -1.3412e-01,  7.1385e-01,\n",
       "           3.2202e-01, -3.9571e-02,  1.1852e-01,  3.2700e-01, -1.5351e-01,\n",
       "          -5.0324e-01, -3.9229e-01],\n",
       "         [ 2.9095e-01, -7.9980e-01, -5.7790e-01,  1.3222e-01, -1.9916e-01,\n",
       "           6.1916e-03, -1.1968e-01,  1.4035e-01,  4.8387e-01, -4.7046e-01,\n",
       "           5.5173e-01, -5.2840e-02,  4.8448e-01, -3.0529e-01,  2.5552e-01,\n",
       "           7.7583e-01, -7.2085e-01, -5.1047e-01,  1.6739e-01,  4.2073e-01,\n",
       "          -5.3751e-01, -6.8641e-02, -3.6437e-01, -3.0309e-01,  4.1746e-02,\n",
       "           5.0663e-01,  1.3808e-01],\n",
       "         [ 3.5014e-01,  8.1611e-01,  5.0489e-01,  3.6207e-01, -2.5614e-01,\n",
       "           5.6134e-01, -5.2584e-02,  3.3434e-01, -2.5091e-01, -6.1080e-01,\n",
       "           4.5628e-01, -2.7444e-01, -3.0875e-01,  6.3936e-02,  2.1459e-01,\n",
       "           3.6315e-01, -5.1803e-01,  1.3293e-01, -3.6853e-01,  9.6915e-01,\n",
       "          -9.1091e-01,  9.7722e-02, -7.9045e-01, -4.2719e-02,  1.1000e-01,\n",
       "          -9.7066e-02,  6.0250e-02],\n",
       "         [-7.3231e-01, -8.3542e-01,  4.4623e-01, -8.0102e-01, -2.6751e-01,\n",
       "          -7.4578e-01,  9.2399e-01,  1.2522e-01,  6.2864e-01,  5.4743e-01,\n",
       "          -7.3756e-01,  9.3184e-04,  2.0541e-01,  1.0304e-02, -7.0336e-01,\n",
       "           2.6072e-01,  8.0354e-01,  3.6172e-01,  3.3205e-01, -3.9276e-01,\n",
       "           4.1573e-01,  2.3514e-01,  9.9953e-01, -1.0338e+00, -3.9392e-01,\n",
       "          -2.2272e-01, -1.5621e-01],\n",
       "         [ 2.3098e-01, -5.1849e-01, -2.2709e-01, -9.7115e-01,  4.2023e-01,\n",
       "          -3.2249e-01,  7.2682e-01, -1.2360e-01, -2.9793e-01,  2.8036e-01,\n",
       "          -1.8174e-01,  4.4308e-02,  2.4064e-02,  6.1555e-02,  1.0726e-01,\n",
       "           3.2993e-01,  7.9627e-01, -4.3340e-01,  1.1483e-01, -8.3930e-01,\n",
       "          -5.7293e-01, -4.1746e-01,  1.1430e+00, -4.9958e-01,  5.4416e-01,\n",
       "          -1.1929e-01, -7.3815e-01],\n",
       "         [-1.3242e-01,  8.6803e-01, -3.0008e-01,  3.2902e-01, -1.5068e-01,\n",
       "           6.2284e-01, -3.1384e-01, -1.2882e-01, -1.6484e-01, -6.8128e-02,\n",
       "           9.5257e-01, -7.3390e-01, -1.4075e-01, -9.0954e-01,  2.2395e-01,\n",
       "          -5.9480e-01, -5.7834e-01, -7.6277e-01, -9.1577e-01, -2.5964e-01,\n",
       "          -8.5463e-01, -2.5899e-01, -1.0582e+00,  1.5699e+00,  4.7463e-01,\n",
       "          -2.6572e-01,  4.0898e-01],\n",
       "         [ 6.0821e-01, -1.0158e-01, -7.6948e-01, -5.1374e-01, -4.1033e-02,\n",
       "           9.0320e-01,  3.3892e-01,  4.7778e-02, -5.4655e-02,  1.9224e-01,\n",
       "          -1.4866e-01,  4.7666e-01,  4.5745e-01,  1.9224e-01, -3.6032e-01,\n",
       "          -8.7773e-01,  5.9126e-02, -3.7986e-01,  6.0610e-01, -8.7412e-01,\n",
       "          -1.8376e-01, -3.7310e-01,  7.7215e-01,  5.8544e-01,  8.1483e-01,\n",
       "           3.4590e-01, -1.0737e+00],\n",
       "         [-3.1644e-02, -3.3867e-01, -5.2963e-01, -1.2857e+00,  5.5324e-02,\n",
       "          -6.0370e-01,  9.0631e-01,  1.5781e-02, -2.5428e-01,  3.9766e-01,\n",
       "          -9.0276e-01,  1.3038e-01,  3.8600e-01, -1.4461e-01, -3.6958e-01,\n",
       "          -7.1162e-01,  4.4450e-01, -3.6623e-01, -1.8197e-01, -1.8402e-01,\n",
       "          -5.1576e-01, -7.4693e-02,  1.1360e+00, -5.8065e-01,  7.9746e-02,\n",
       "          -3.9795e-01, -1.3357e+00],\n",
       "         [-4.3766e-01, -1.9070e-01,  3.9149e-01, -5.6411e-01, -1.1094e-01,\n",
       "          -4.7694e-01,  7.9304e-02, -2.1077e-01,  7.4481e-02,  3.8771e-01,\n",
       "          -6.2318e-01, -3.4333e-01,  1.2080e-01,  9.4581e-02,  2.2900e-01,\n",
       "           5.7771e-01,  2.3595e-01,  2.4739e-01,  3.8125e-01, -8.1029e-01,\n",
       "           1.0095e+00, -8.0446e-01,  2.6281e-01, -1.0778e+00, -7.4666e-01,\n",
       "          -2.9398e-02,  2.2162e-01],\n",
       "         [ 6.8714e-01,  3.0638e-01, -6.6553e-01, -4.4422e-01, -2.4246e-03,\n",
       "           6.6523e-01,  3.9220e-01,  1.6007e-01, -1.0719e+00, -1.2696e-01,\n",
       "           2.4879e-01, -1.0580e-01, -2.9984e-01, -3.0663e-01, -1.3458e-01,\n",
       "          -5.8876e-02,  8.6835e-01, -2.1053e-01,  7.4282e-01, -2.4876e-01,\n",
       "           2.1925e-03, -5.3150e-03,  3.7271e-01,  6.6858e-01,  9.7348e-01,\n",
       "          -9.4225e-01, -6.0324e-01],\n",
       "         [-5.8093e-01, -5.9279e-01,  4.6626e-02, -2.3933e-02,  3.1556e-01,\n",
       "          -5.0779e-01,  7.0527e-01, -7.8744e-02,  7.7423e-01,  3.8994e-02,\n",
       "          -2.2490e-01, -9.1624e-02, -3.7794e-02,  2.0876e-01, -1.4136e-02,\n",
       "           6.6691e-01, -1.1360e-01, -2.1470e-01,  1.8614e-01, -2.1616e-01,\n",
       "           3.1689e-01, -9.1995e-02,  5.1175e-01, -8.0358e-01, -2.7671e-02,\n",
       "           4.7008e-01,  1.0439e-01],\n",
       "         [ 2.4883e-01,  5.6960e-01, -1.0335e-01,  7.8571e-01,  5.3169e-01,\n",
       "           5.3239e-01,  1.5728e-01,  4.6662e-02,  1.1272e-02, -2.6009e-01,\n",
       "           2.0092e-01, -3.1350e-01, -4.8784e-01,  3.3219e-02, -8.6090e-01,\n",
       "           1.4196e-01,  1.8411e-01,  1.3710e-02,  5.7472e-01,  5.3300e-01,\n",
       "           7.3023e-01,  6.8354e-02, -2.4796e-01,  9.5962e-01,  1.1004e+00,\n",
       "          -2.9698e-01, -1.1504e-01],\n",
       "         [ 2.4499e-01, -3.0601e-01,  7.7830e-01, -5.9581e-01,  6.8531e-01,\n",
       "          -1.8440e-01, -6.5653e-01, -3.0534e-01, -7.5756e-01,  5.2716e-01,\n",
       "          -3.0189e-01, -1.9443e-01, -6.0844e-02,  9.6271e-01,  2.2183e-01,\n",
       "           1.2884e-01,  4.1983e-01,  2.0457e-01,  2.9081e-01, -9.1175e-01,\n",
       "           6.0752e-01, -1.1233e+00,  6.0575e-01, -3.0587e-01, -5.7155e-01,\n",
       "           1.3949e-01, -5.0134e-01]], grad_fn=<AddBackward0>))"
      ]
     },
     "execution_count": 13,
     "metadata": {},
     "output_type": "execute_result"
    }
   ],
   "source": [
    "logits.shape, Yb.shape, logits"
   ]
  },
  {
   "cell_type": "code",
   "execution_count": 14,
   "metadata": {},
   "outputs": [
    {
     "data": {
      "text/plain": [
       "(tensor([[0.0634, 0.0885, 0.0191, 0.0487, 0.0212, 0.0801, 0.0260, 0.0332, 0.0193,\n",
       "          0.0333, 0.0358, 0.0337, 0.0350, 0.0318, 0.0382, 0.0140, 0.0091, 0.0195,\n",
       "          0.0170, 0.0509, 0.0517, 0.0231, 0.0258, 0.0739, 0.0603, 0.0271, 0.0204],\n",
       "         [0.0476, 0.0564, 0.0983, 0.0544, 0.0365, 0.0315, 0.0203, 0.0459, 0.0218,\n",
       "          0.0260, 0.0446, 0.0415, 0.0417, 0.0336, 0.0476, 0.0389, 0.0278, 0.0168,\n",
       "          0.0215, 0.0341, 0.0203, 0.0248, 0.0139, 0.0682, 0.0247, 0.0370, 0.0246],\n",
       "         [0.0188, 0.0229, 0.0150, 0.0125, 0.0225, 0.0415, 0.0600, 0.0621, 0.0609,\n",
       "          0.0329, 0.0185, 0.0314, 0.0425, 0.0559, 0.0240, 0.0242, 0.0141, 0.0321,\n",
       "          0.0297, 0.1000, 0.0680, 0.0391, 0.0424, 0.0412, 0.0398, 0.0206, 0.0271],\n",
       "         [0.0268, 0.0277, 0.0455, 0.0532, 0.0580, 0.0266, 0.0497, 0.0410, 0.0525,\n",
       "          0.0199, 0.0347, 0.0229, 0.0322, 0.0479, 0.0615, 0.0648, 0.0243, 0.0241,\n",
       "          0.0185, 0.0475, 0.0185, 0.0261, 0.0386, 0.0213, 0.0266, 0.0480, 0.0415],\n",
       "         [0.0150, 0.0174, 0.0254, 0.0225, 0.0171, 0.0396, 0.0359, 0.0172, 0.0606,\n",
       "          0.0400, 0.0312, 0.0147, 0.0378, 0.0266, 0.0487, 0.1645, 0.0194, 0.0506,\n",
       "          0.0538, 0.0558, 0.0430, 0.0168, 0.0233, 0.0153, 0.0428, 0.0227, 0.0421],\n",
       "         [0.0296, 0.0371, 0.0591, 0.0634, 0.0641, 0.0250, 0.0309, 0.0538, 0.0271,\n",
       "          0.0171, 0.0395, 0.0157, 0.0272, 0.0495, 0.0673, 0.0508, 0.0166, 0.0200,\n",
       "          0.0116, 0.0270, 0.0323, 0.0320, 0.0446, 0.0180, 0.0179, 0.0802, 0.0427],\n",
       "         [0.0502, 0.0125, 0.0671, 0.0141, 0.0291, 0.0200, 0.0672, 0.0547, 0.0493,\n",
       "          0.0456, 0.0172, 0.0335, 0.0261, 0.0196, 0.0161, 0.0687, 0.0839, 0.0427,\n",
       "          0.0107, 0.0300, 0.0277, 0.0517, 0.0467, 0.0225, 0.0399, 0.0239, 0.0292],\n",
       "         [0.0395, 0.0321, 0.0266, 0.1170, 0.0253, 0.0520, 0.0305, 0.0808, 0.0355,\n",
       "          0.0088, 0.0274, 0.0134, 0.0194, 0.0632, 0.0191, 0.0154, 0.0136, 0.0136,\n",
       "          0.0162, 0.0877, 0.0328, 0.0508, 0.0270, 0.0357, 0.0247, 0.0571, 0.0347],\n",
       "         [0.0458, 0.0302, 0.0182, 0.0351, 0.0108, 0.0412, 0.0577, 0.0844, 0.0275,\n",
       "          0.0228, 0.0289, 0.0307, 0.0357, 0.0270, 0.0128, 0.0175, 0.0201, 0.0373,\n",
       "          0.0235, 0.0786, 0.0372, 0.0917, 0.0452, 0.0477, 0.0445, 0.0164, 0.0316],\n",
       "         [0.0243, 0.0153, 0.0309, 0.0189, 0.0279, 0.0367, 0.0363, 0.0291, 0.0871,\n",
       "          0.0673, 0.0123, 0.0318, 0.0398, 0.0470, 0.0255, 0.0270, 0.0617, 0.0456,\n",
       "          0.0442, 0.0236, 0.0704, 0.0270, 0.0608, 0.0218, 0.0315, 0.0370, 0.0193],\n",
       "         [0.0140, 0.0077, 0.0394, 0.0423, 0.0306, 0.0362, 0.0189, 0.0061, 0.0392,\n",
       "          0.0478, 0.0234, 0.0172, 0.0549, 0.0334, 0.0406, 0.1370, 0.0500, 0.0577,\n",
       "          0.0844, 0.0351, 0.0481, 0.0112, 0.0121, 0.0223, 0.0372, 0.0300, 0.0234],\n",
       "         [0.0222, 0.0329, 0.0242, 0.1715, 0.0116, 0.0556, 0.0660, 0.0442, 0.0441,\n",
       "          0.0353, 0.0148, 0.0192, 0.0220, 0.0298, 0.0075, 0.0065, 0.0213, 0.0359,\n",
       "          0.0171, 0.0524, 0.0534, 0.0441, 0.0216, 0.0374, 0.0464, 0.0475, 0.0156],\n",
       "         [0.0156, 0.0141, 0.0506, 0.0145, 0.0248, 0.0154, 0.0817, 0.0367, 0.0608,\n",
       "          0.0560, 0.0155, 0.0324, 0.0398, 0.0327, 0.0160, 0.0421, 0.0724, 0.0465,\n",
       "          0.0452, 0.0219, 0.0491, 0.0410, 0.0881, 0.0115, 0.0219, 0.0259, 0.0277],\n",
       "         [0.0206, 0.0279, 0.0563, 0.0194, 0.0162, 0.0702, 0.0281, 0.0149, 0.0291,\n",
       "          0.0497, 0.0264, 0.0303, 0.0659, 0.0427, 0.0523, 0.0444, 0.0302, 0.0325,\n",
       "          0.0878, 0.0134, 0.0644, 0.0157, 0.0168, 0.0365, 0.0356, 0.0376, 0.0349],\n",
       "         [0.0410, 0.0259, 0.0311, 0.0523, 0.0176, 0.0328, 0.0328, 0.0534, 0.0558,\n",
       "          0.0520, 0.0303, 0.0386, 0.0486, 0.0450, 0.0295, 0.0237, 0.0224, 0.0533,\n",
       "          0.0306, 0.0448, 0.0548, 0.0550, 0.0257, 0.0376, 0.0223, 0.0216, 0.0215],\n",
       "         [0.0381, 0.0637, 0.0345, 0.0179, 0.0186, 0.0776, 0.0315, 0.0226, 0.0303,\n",
       "          0.0545, 0.0318, 0.0417, 0.0605, 0.0184, 0.0296, 0.0168, 0.0418, 0.0193,\n",
       "          0.0580, 0.0170, 0.0379, 0.0270, 0.0330, 0.0720, 0.0566, 0.0284, 0.0210],\n",
       "         [0.0243, 0.0261, 0.0925, 0.0448, 0.0592, 0.0470, 0.0164, 0.0265, 0.0197,\n",
       "          0.0199, 0.0474, 0.0194, 0.0374, 0.0650, 0.0692, 0.0641, 0.0153, 0.0169,\n",
       "          0.0257, 0.0400, 0.0269, 0.0169, 0.0090, 0.0501, 0.0236, 0.0453, 0.0511],\n",
       "         [0.0435, 0.0825, 0.0523, 0.0559, 0.0409, 0.0333, 0.0225, 0.0734, 0.0266,\n",
       "          0.0174, 0.0655, 0.0126, 0.0228, 0.0221, 0.0417, 0.0303, 0.0148, 0.0312,\n",
       "          0.0178, 0.0489, 0.0211, 0.0478, 0.0265, 0.0198, 0.0250, 0.0435, 0.0601],\n",
       "         [0.0156, 0.0141, 0.0506, 0.0145, 0.0248, 0.0154, 0.0817, 0.0367, 0.0608,\n",
       "          0.0560, 0.0155, 0.0324, 0.0398, 0.0327, 0.0160, 0.0421, 0.0724, 0.0465,\n",
       "          0.0452, 0.0219, 0.0491, 0.0410, 0.0881, 0.0115, 0.0219, 0.0259, 0.0277],\n",
       "         [0.0210, 0.0222, 0.0369, 0.0154, 0.0359, 0.0326, 0.0697, 0.0489, 0.0353,\n",
       "          0.0382, 0.0269, 0.0393, 0.0580, 0.0629, 0.0156, 0.0235, 0.0308, 0.0192,\n",
       "          0.0325, 0.0758, 0.0512, 0.0357, 0.0418, 0.0515, 0.0318, 0.0224, 0.0251],\n",
       "         [0.0466, 0.0157, 0.0195, 0.0398, 0.0285, 0.0351, 0.0309, 0.0401, 0.0565,\n",
       "          0.0218, 0.0605, 0.0330, 0.0566, 0.0257, 0.0450, 0.0757, 0.0169, 0.0209,\n",
       "          0.0412, 0.0531, 0.0204, 0.0325, 0.0242, 0.0257, 0.0363, 0.0578, 0.0400],\n",
       "         [0.0460, 0.0733, 0.0537, 0.0466, 0.0251, 0.0568, 0.0308, 0.0453, 0.0252,\n",
       "          0.0176, 0.0512, 0.0246, 0.0238, 0.0346, 0.0402, 0.0466, 0.0193, 0.0370,\n",
       "          0.0224, 0.0854, 0.0130, 0.0357, 0.0147, 0.0311, 0.0362, 0.0294, 0.0344],\n",
       "         [0.0156, 0.0141, 0.0506, 0.0145, 0.0248, 0.0154, 0.0817, 0.0367, 0.0608,\n",
       "          0.0560, 0.0155, 0.0324, 0.0398, 0.0327, 0.0160, 0.0421, 0.0724, 0.0465,\n",
       "          0.0452, 0.0219, 0.0491, 0.0410, 0.0881, 0.0115, 0.0219, 0.0259, 0.0277],\n",
       "         [0.0431, 0.0204, 0.0273, 0.0129, 0.0521, 0.0248, 0.0707, 0.0302, 0.0254,\n",
       "          0.0453, 0.0285, 0.0357, 0.0350, 0.0364, 0.0381, 0.0476, 0.0758, 0.0222,\n",
       "          0.0384, 0.0148, 0.0193, 0.0225, 0.1073, 0.0208, 0.0589, 0.0304, 0.0163],\n",
       "         [0.0291, 0.0792, 0.0246, 0.0462, 0.0286, 0.0620, 0.0243, 0.0292, 0.0282,\n",
       "          0.0311, 0.0862, 0.0160, 0.0289, 0.0134, 0.0416, 0.0183, 0.0186, 0.0155,\n",
       "          0.0133, 0.0256, 0.0141, 0.0257, 0.0115, 0.1598, 0.0534, 0.0255, 0.0500],\n",
       "         [0.0579, 0.0285, 0.0146, 0.0189, 0.0303, 0.0778, 0.0443, 0.0331, 0.0299,\n",
       "          0.0382, 0.0272, 0.0508, 0.0498, 0.0382, 0.0220, 0.0131, 0.0335, 0.0216,\n",
       "          0.0578, 0.0132, 0.0262, 0.0217, 0.0683, 0.0566, 0.0712, 0.0446, 0.0108],\n",
       "         [0.0371, 0.0273, 0.0226, 0.0106, 0.0405, 0.0209, 0.0948, 0.0389, 0.0297,\n",
       "          0.0570, 0.0155, 0.0436, 0.0564, 0.0332, 0.0265, 0.0188, 0.0598, 0.0266,\n",
       "          0.0319, 0.0319, 0.0229, 0.0356, 0.1193, 0.0214, 0.0415, 0.0257, 0.0101],\n",
       "         [0.0231, 0.0295, 0.0529, 0.0203, 0.0320, 0.0222, 0.0387, 0.0290, 0.0385,\n",
       "          0.0527, 0.0192, 0.0254, 0.0403, 0.0393, 0.0449, 0.0637, 0.0453, 0.0458,\n",
       "          0.0523, 0.0159, 0.0981, 0.0160, 0.0465, 0.0122, 0.0169, 0.0347, 0.0446],\n",
       "         [0.0624, 0.0426, 0.0161, 0.0201, 0.0313, 0.0611, 0.0465, 0.0368, 0.0107,\n",
       "          0.0276, 0.0403, 0.0282, 0.0233, 0.0231, 0.0274, 0.0296, 0.0748, 0.0254,\n",
       "          0.0660, 0.0245, 0.0315, 0.0312, 0.0456, 0.0613, 0.0831, 0.0122, 0.0172],\n",
       "         [0.0187, 0.0185, 0.0350, 0.0327, 0.0459, 0.0201, 0.0677, 0.0309, 0.0725,\n",
       "          0.0348, 0.0267, 0.0305, 0.0322, 0.0412, 0.0330, 0.0652, 0.0299, 0.0270,\n",
       "          0.0403, 0.0269, 0.0459, 0.0305, 0.0558, 0.0150, 0.0325, 0.0535, 0.0371],\n",
       "         [0.0360, 0.0496, 0.0253, 0.0616, 0.0478, 0.0478, 0.0329, 0.0294, 0.0284,\n",
       "          0.0217, 0.0343, 0.0205, 0.0172, 0.0290, 0.0119, 0.0324, 0.0338, 0.0285,\n",
       "          0.0499, 0.0479, 0.0583, 0.0301, 0.0219, 0.0733, 0.0844, 0.0209, 0.0250],\n",
       "         [0.0426, 0.0245, 0.0725, 0.0184, 0.0661, 0.0277, 0.0173, 0.0245, 0.0156,\n",
       "          0.0564, 0.0246, 0.0274, 0.0313, 0.0872, 0.0416, 0.0379, 0.0507, 0.0409,\n",
       "          0.0445, 0.0134, 0.0611, 0.0108, 0.0610, 0.0245, 0.0188, 0.0383, 0.0202]],\n",
       "        grad_fn=<SoftmaxBackward0>),\n",
       " tensor([[0, 0, 0, 0, 0, 0, 0, 0, 1, 0, 0, 0, 0, 0, 0, 0, 0, 0, 0, 0, 0, 0, 0, 0,\n",
       "          0, 0, 0],\n",
       "         [0, 0, 0, 0, 0, 0, 0, 0, 0, 0, 0, 0, 0, 0, 1, 0, 0, 0, 0, 0, 0, 0, 0, 0,\n",
       "          0, 0, 0],\n",
       "         [0, 0, 0, 0, 0, 0, 0, 0, 0, 0, 0, 0, 0, 0, 0, 1, 0, 0, 0, 0, 0, 0, 0, 0,\n",
       "          0, 0, 0],\n",
       "         [0, 0, 0, 0, 0, 0, 0, 0, 0, 0, 0, 0, 0, 0, 0, 0, 0, 0, 0, 0, 0, 0, 1, 0,\n",
       "          0, 0, 0],\n",
       "         [1, 0, 0, 0, 0, 0, 0, 0, 0, 0, 0, 0, 0, 0, 0, 0, 0, 0, 0, 0, 0, 0, 0, 0,\n",
       "          0, 0, 0],\n",
       "         [0, 0, 0, 0, 0, 0, 0, 0, 0, 0, 0, 0, 0, 0, 0, 0, 0, 0, 0, 1, 0, 0, 0, 0,\n",
       "          0, 0, 0],\n",
       "         [0, 0, 0, 0, 0, 0, 0, 0, 0, 1, 0, 0, 0, 0, 0, 0, 0, 0, 0, 0, 0, 0, 0, 0,\n",
       "          0, 0, 0],\n",
       "         [0, 0, 0, 0, 0, 0, 0, 0, 0, 0, 0, 0, 0, 0, 1, 0, 0, 0, 0, 0, 0, 0, 0, 0,\n",
       "          0, 0, 0],\n",
       "         [0, 0, 0, 0, 0, 1, 0, 0, 0, 0, 0, 0, 0, 0, 0, 0, 0, 0, 0, 0, 0, 0, 0, 0,\n",
       "          0, 0, 0],\n",
       "         [0, 1, 0, 0, 0, 0, 0, 0, 0, 0, 0, 0, 0, 0, 0, 0, 0, 0, 0, 0, 0, 0, 0, 0,\n",
       "          0, 0, 0],\n",
       "         [0, 0, 0, 0, 0, 0, 0, 0, 0, 0, 0, 0, 0, 0, 0, 0, 0, 0, 0, 0, 1, 0, 0, 0,\n",
       "          0, 0, 0],\n",
       "         [0, 0, 0, 1, 0, 0, 0, 0, 0, 0, 0, 0, 0, 0, 0, 0, 0, 0, 0, 0, 0, 0, 0, 0,\n",
       "          0, 0, 0],\n",
       "         [0, 0, 0, 0, 0, 0, 0, 0, 1, 0, 0, 0, 0, 0, 0, 0, 0, 0, 0, 0, 0, 0, 0, 0,\n",
       "          0, 0, 0],\n",
       "         [0, 0, 0, 0, 0, 0, 0, 0, 0, 0, 0, 0, 0, 0, 1, 0, 0, 0, 0, 0, 0, 0, 0, 0,\n",
       "          0, 0, 0],\n",
       "         [0, 0, 0, 0, 0, 0, 0, 0, 0, 0, 0, 0, 1, 0, 0, 0, 0, 0, 0, 0, 0, 0, 0, 0,\n",
       "          0, 0, 0],\n",
       "         [1, 0, 0, 0, 0, 0, 0, 0, 0, 0, 0, 0, 0, 0, 0, 0, 0, 0, 0, 0, 0, 0, 0, 0,\n",
       "          0, 0, 0],\n",
       "         [0, 0, 0, 0, 0, 0, 0, 0, 0, 0, 0, 1, 0, 0, 0, 0, 0, 0, 0, 0, 0, 0, 0, 0,\n",
       "          0, 0, 0],\n",
       "         [1, 0, 0, 0, 0, 0, 0, 0, 0, 0, 0, 0, 0, 0, 0, 0, 0, 0, 0, 0, 0, 0, 0, 0,\n",
       "          0, 0, 0],\n",
       "         [0, 0, 0, 0, 0, 0, 0, 0, 0, 0, 0, 0, 0, 0, 0, 0, 0, 0, 0, 0, 0, 0, 0, 0,\n",
       "          0, 0, 1],\n",
       "         [0, 0, 0, 0, 0, 0, 0, 0, 0, 1, 0, 0, 0, 0, 0, 0, 0, 0, 0, 0, 0, 0, 0, 0,\n",
       "          0, 0, 0],\n",
       "         [0, 0, 0, 0, 0, 0, 0, 0, 0, 0, 0, 0, 0, 0, 0, 0, 0, 0, 0, 0, 0, 0, 0, 0,\n",
       "          0, 1, 0],\n",
       "         [1, 0, 0, 0, 0, 0, 0, 0, 0, 0, 0, 0, 0, 0, 0, 0, 0, 0, 0, 0, 0, 0, 0, 0,\n",
       "          0, 0, 0],\n",
       "         [0, 1, 0, 0, 0, 0, 0, 0, 0, 0, 0, 0, 0, 0, 0, 0, 0, 0, 0, 0, 0, 0, 0, 0,\n",
       "          0, 0, 0],\n",
       "         [0, 1, 0, 0, 0, 0, 0, 0, 0, 0, 0, 0, 0, 0, 0, 0, 0, 0, 0, 0, 0, 0, 0, 0,\n",
       "          0, 0, 0],\n",
       "         [0, 0, 0, 0, 0, 0, 0, 1, 0, 0, 0, 0, 0, 0, 0, 0, 0, 0, 0, 0, 0, 0, 0, 0,\n",
       "          0, 0, 0],\n",
       "         [0, 0, 0, 0, 0, 0, 0, 0, 0, 0, 0, 0, 0, 0, 0, 0, 0, 0, 1, 0, 0, 0, 0, 0,\n",
       "          0, 0, 0],\n",
       "         [0, 0, 0, 0, 0, 0, 0, 0, 0, 1, 0, 0, 0, 0, 0, 0, 0, 0, 0, 0, 0, 0, 0, 0,\n",
       "          0, 0, 0],\n",
       "         [0, 0, 0, 1, 0, 0, 0, 0, 0, 0, 0, 0, 0, 0, 0, 0, 0, 0, 0, 0, 0, 0, 0, 0,\n",
       "          0, 0, 0],\n",
       "         [0, 0, 0, 0, 0, 1, 0, 0, 0, 0, 0, 0, 0, 0, 0, 0, 0, 0, 0, 0, 0, 0, 0, 0,\n",
       "          0, 0, 0],\n",
       "         [0, 0, 0, 0, 0, 0, 0, 0, 0, 1, 0, 0, 0, 0, 0, 0, 0, 0, 0, 0, 0, 0, 0, 0,\n",
       "          0, 0, 0],\n",
       "         [1, 0, 0, 0, 0, 0, 0, 0, 0, 0, 0, 0, 0, 0, 0, 0, 0, 0, 0, 0, 0, 0, 0, 0,\n",
       "          0, 0, 0],\n",
       "         [0, 0, 0, 0, 0, 0, 0, 0, 0, 0, 0, 0, 0, 0, 0, 0, 0, 0, 1, 0, 0, 0, 0, 0,\n",
       "          0, 0, 0]]))"
      ]
     },
     "execution_count": 14,
     "metadata": {},
     "output_type": "execute_result"
    }
   ],
   "source": [
    "F.softmax(logits, dim=1), F.one_hot(Yb)"
   ]
  },
  {
   "cell_type": "code",
   "execution_count": 15,
   "metadata": {
    "id": "-gCXbB4C8PPx"
   },
   "outputs": [
    {
     "name": "stdout",
     "output_type": "stream",
     "text": [
      "logits          | exact: False | approximate: True  | maxdiff: 7.2177499532699585e-09\n"
     ]
    }
   ],
   "source": [
    "# backward pass\n",
    "\n",
    "dlogits = (F.softmax(logits, dim=1) - F.one_hot(Yb, num_classes=27)) / n\n",
    "\n",
    "cmp('logits', dlogits, logits) # I can only get approximate to be true, my maxdiff is 6e-9"
   ]
  },
  {
   "cell_type": "code",
   "execution_count": 16,
   "metadata": {
    "id": "hd-MkhB68PPy"
   },
   "outputs": [
    {
     "name": "stdout",
     "output_type": "stream",
     "text": [
      "max diff: tensor(7.1526e-07, grad_fn=<MaxBackward1>)\n"
     ]
    }
   ],
   "source": [
    "# Exercise 3: backprop through batchnorm but all in one go\n",
    "# to complete this challenge look at the mathematical expression of the output of batchnorm,\n",
    "# take the derivative w.r.t. its input, simplify the expression, and just write it out\n",
    "# BatchNorm paper: https://arxiv.org/abs/1502.03167\n",
    "\n",
    "# forward pass\n",
    "\n",
    "# before:\n",
    "# bnmeani = 1/n*hprebn.sum(0, keepdim=True)\n",
    "# bndiff = hprebn - bnmeani\n",
    "# bndiff2 = bndiff**2\n",
    "# bnvar = 1/(n-1)*(bndiff2).sum(0, keepdim=True) # note: Bessel's correction (dividing by n-1, not n)\n",
    "# bnvar_inv = (bnvar + 1e-5)**-0.5\n",
    "# bnraw = bndiff * bnvar_inv\n",
    "# hpreact = bngain * bnraw + bnbias\n",
    "\n",
    "# now:\n",
    "hpreact_fast = bngain * (hprebn - hprebn.mean(0, keepdim=True)) / torch.sqrt(hprebn.var(0, keepdim=True, unbiased=True) + 1e-5) + bnbias\n",
    "print('max diff:', (hpreact_fast - hpreact).abs().max())"
   ]
  },
  {
   "cell_type": "code",
   "execution_count": 17,
   "metadata": {
    "id": "POdeZSKT8PPy"
   },
   "outputs": [
    {
     "name": "stdout",
     "output_type": "stream",
     "text": [
      "hprebn          | exact: False | approximate: True  | maxdiff: 9.313225746154785e-10\n"
     ]
    }
   ],
   "source": [
    "# backward pass\n",
    "\n",
    "# before we had:\n",
    "# dbnraw = bngain * dhpreact\n",
    "# dbndiff = bnvar_inv * dbnraw\n",
    "# dbnvar_inv = (bndiff * dbnraw).sum(0, keepdim=True)\n",
    "# dbnvar = (-0.5*(bnvar + 1e-5)**-1.5) * dbnvar_inv\n",
    "# dbndiff2 = (1.0/(n-1))*torch.ones_like(bndiff2) * dbnvar\n",
    "# dbndiff += (2*bndiff) * dbndiff2\n",
    "# dhprebn = dbndiff.clone()\n",
    "# dbnmeani = (-dbndiff).sum(0)\n",
    "# dhprebn += 1.0/n * (torch.ones_like(hprebn) * dbnmeani)\n",
    "\n",
    "# calculate dhprebn given dhpreact (i.e. backprop through the batchnorm)\n",
    "# (you'll also need to use some of the variables from the forward pass up above)\n",
    "\n",
    "dhprebn = bngain*((bnvar+1e-5)**-0.5)/n * (n*dhpreact - dhpreact.sum(0) - (n/(n-1)*bnraw)*(dhpreact*bnraw).sum(0))\n",
    "\n",
    "cmp('hprebn', dhprebn, hprebn) # I can only get approximate to be true, my maxdiff is 9e-10"
   ]
  },
  {
   "cell_type": "code",
   "execution_count": 30,
   "metadata": {
    "id": "wPy8DhqB8PPz"
   },
   "outputs": [
    {
     "name": "stdout",
     "output_type": "stream",
     "text": [
      "12297\n",
      "      0/ 200000: 3.7347\n",
      "  10000/ 200000: 2.2140\n",
      "  20000/ 200000: 2.4184\n",
      "  30000/ 200000: 2.4510\n",
      "  40000/ 200000: 1.9862\n",
      "  50000/ 200000: 2.3861\n",
      "  60000/ 200000: 2.3920\n",
      "  70000/ 200000: 2.0688\n",
      "  80000/ 200000: 2.3406\n",
      "  90000/ 200000: 2.1206\n",
      " 100000/ 200000: 1.9662\n",
      " 110000/ 200000: 2.2487\n",
      " 120000/ 200000: 2.0081\n",
      " 130000/ 200000: 2.4362\n",
      " 140000/ 200000: 2.3166\n",
      " 150000/ 200000: 2.1143\n",
      " 160000/ 200000: 1.9339\n",
      " 170000/ 200000: 1.8820\n",
      " 180000/ 200000: 2.0791\n",
      " 190000/ 200000: 1.9541\n"
     ]
    }
   ],
   "source": [
    "# Exercise 4: putting it all together!\n",
    "# Train the MLP neural net with your own backward pass\n",
    "\n",
    "# init\n",
    "n_embd = 10 # the dimensionality of the character embedding vectors\n",
    "n_hidden = 200 # the number of neurons in the hidden layer of the MLP\n",
    "\n",
    "g = torch.Generator().manual_seed(2147483647) # for reproducibility\n",
    "C  = torch.randn((vocab_size, n_embd),            generator=g)\n",
    "# Layer 1\n",
    "W1 = torch.randn((n_embd * block_size, n_hidden), generator=g) * (5/3)/((n_embd * block_size)**0.5)\n",
    "b1 = torch.randn(n_hidden,                        generator=g) * 0.1\n",
    "# Layer 2\n",
    "W2 = torch.randn((n_hidden, vocab_size),          generator=g) * 0.1\n",
    "b2 = torch.randn(vocab_size,                      generator=g) * 0.1\n",
    "# BatchNorm parameters\n",
    "bngain = torch.randn((1, n_hidden))*0.1 + 1.0\n",
    "bnbias = torch.randn((1, n_hidden))*0.1\n",
    "\n",
    "parameters = [C, W1, b1, W2, b2, bngain, bnbias]\n",
    "print(sum(p.nelement() for p in parameters)) # number of parameters in total\n",
    "#for p in parameters:\n",
    "#  p.requires_grad = True\n",
    "\n",
    "# same optimization as last time\n",
    "max_steps = 200000\n",
    "batch_size = 32\n",
    "n = batch_size # convenience\n",
    "lossi = []\n",
    "\n",
    "# use this context manager for efficiency once your backward pass is written (TODO)\n",
    "with torch.no_grad():\n",
    "\n",
    "  # kick off optimization\n",
    "  for i in range(max_steps):\n",
    "  \n",
    "    # minibatch construct\n",
    "    ix = torch.randint(0, Xtr.shape[0], (batch_size,), generator=g)\n",
    "    Xb, Yb = Xtr[ix], Ytr[ix] # batch X,Y\n",
    "  \n",
    "    # forward pass\n",
    "    emb = C[Xb] # embed the characters into vectors\n",
    "    embcat = emb.view(emb.shape[0], -1) # concatenate the vectors\n",
    "    # Linear layer\n",
    "    hprebn = embcat @ W1 + b1 # hidden layer pre-activation\n",
    "    # BatchNorm layer\n",
    "    # -------------------------------------------------------------\n",
    "    bnmean = hprebn.mean(0, keepdim=True)\n",
    "    bnvar = hprebn.var(0, keepdim=True, unbiased=True)\n",
    "    bnvar_inv = (bnvar + 1e-5)**-0.5\n",
    "    bnraw = (hprebn - bnmean) * bnvar_inv\n",
    "    hpreact = bngain * bnraw + bnbias\n",
    "    # -------------------------------------------------------------\n",
    "    # Non-linearity\n",
    "    h = torch.tanh(hpreact) # hidden layer\n",
    "    logits = h @ W2 + b2 # output layer\n",
    "    loss = F.cross_entropy(logits, Yb) # loss function\n",
    "  \n",
    "    # backward pass\n",
    "    #for p in parameters:\n",
    "    #  p.grad = None\n",
    "    #loss.backward() # use this for correctness comparisons, delete it later!\n",
    "  \n",
    "    dlogits = (F.softmax(logits, dim=1) - F.one_hot(Yb, 27)) / n\n",
    "    \n",
    "    dh = dlogits @ W2.T\n",
    "    dW2 = h.T @ dlogits\n",
    "    db2 = dlogits.sum(0)\n",
    "  \n",
    "    dhpreact = (1 - h**2) * dh\n",
    "    \n",
    "    dbngain = (bnraw * dhpreact).sum(0, keepdim=True) \n",
    "    dbnbias = dhpreact.sum(0) \n",
    "    dhprebn = bngain*((bnvar+1e-5)**-0.5)/n * (n*dhpreact - dhpreact.sum(0) - (n/(n-1)*bnraw)*(dhpreact*bnraw).sum(0))\n",
    "    \n",
    "    dembcat = dhprebn @ W1.T\n",
    "    dW1 = embcat.T @ dhprebn\n",
    "    db1 = dhprebn.sum(0)\n",
    "    \n",
    "    demb = dembcat.view(emb.shape)\n",
    "    dC = torch.zeros_like(C)\n",
    "    for _i in range(Xb.shape[0]):\n",
    "      for _j in range(Xb.shape[1]):\n",
    "        c_idx = Xb[_i,_j]\n",
    "        dC[c_idx] += demb[_i,_j]\n",
    "  \n",
    "    grads = [dC, dW1, db1, dW2, db2, dbngain, dbnbias]\n",
    "  \n",
    "    # update\n",
    "    lr = 0.1 if i < 100000 else 0.01 # step learning rate decay\n",
    "    for p, grad in zip(parameters, grads):\n",
    "      #p.data += -lr * p.grad # old way of cheems doge (using PyTorch grad from .backward())\n",
    "      p.data += -lr * grad # new way of swole doge TODO: enable\n",
    "  \n",
    "    # track stats\n",
    "    if i % 10000 == 0: # print every once in a while\n",
    "      print(f'{i:7d}/{max_steps:7d}: {loss.item():.4f}')\n",
    "    lossi.append(loss.log10().item())\n"
   ]
  },
  {
   "cell_type": "code",
   "execution_count": 25,
   "metadata": {
    "id": "ZEpI0hMW8PPz"
   },
   "outputs": [
    {
     "name": "stdout",
     "output_type": "stream",
     "text": [
      "(27, 10)        | exact: False | approximate: True  | maxdiff: 8.381903171539307e-09\n",
      "(30, 200)       | exact: False | approximate: True  | maxdiff: 5.587935447692871e-09\n",
      "(200,)          | exact: False | approximate: True  | maxdiff: 3.725290298461914e-09\n",
      "(200, 27)       | exact: False | approximate: True  | maxdiff: 1.4901161193847656e-08\n",
      "(27,)           | exact: False | approximate: True  | maxdiff: 1.4901161193847656e-08\n",
      "(1, 200)        | exact: False | approximate: True  | maxdiff: 3.725290298461914e-09\n",
      "(1, 200)        | exact: False | approximate: True  | maxdiff: 6.05359673500061e-09\n"
     ]
    }
   ],
   "source": [
    "# useful for checking your gradients\n",
    "#for p,g in zip(parameters, grads):\n",
    "#  cmp(str(tuple(p.shape)), g, p)"
   ]
  },
  {
   "cell_type": "code",
   "execution_count": 31,
   "metadata": {
    "id": "KImLWNoh8PP0"
   },
   "outputs": [],
   "source": [
    "# calibrate the batch norm at the end of training\n",
    "\n",
    "with torch.no_grad():\n",
    "  # pass the training set through\n",
    "  emb = C[Xtr]\n",
    "  embcat = emb.view(emb.shape[0], -1)\n",
    "  hpreact = embcat @ W1 + b1\n",
    "  # measure the mean/std over the entire training set\n",
    "  bnmean = hpreact.mean(0, keepdim=True)\n",
    "  bnvar = hpreact.var(0, keepdim=True, unbiased=True)\n"
   ]
  },
  {
   "cell_type": "code",
   "execution_count": 32,
   "metadata": {
    "id": "6aFnP_Zc8PP0"
   },
   "outputs": [
    {
     "name": "stdout",
     "output_type": "stream",
     "text": [
      "train 2.0722930431365967\n",
      "val 2.109788417816162\n"
     ]
    }
   ],
   "source": [
    "# evaluate train and val loss\n",
    "\n",
    "@torch.no_grad() # this decorator disables gradient tracking\n",
    "def split_loss(split):\n",
    "  x,y = {\n",
    "    'train': (Xtr, Ytr),\n",
    "    'val': (Xdev, Ydev),\n",
    "    'test': (Xte, Yte),\n",
    "  }[split]\n",
    "  emb = C[x] # (N, block_size, n_embd)\n",
    "  embcat = emb.view(emb.shape[0], -1) # concat into (N, block_size * n_embd)\n",
    "  hpreact = embcat @ W1 + b1\n",
    "  hpreact = bngain * (hpreact - bnmean) * (bnvar + 1e-5)**-0.5 + bnbias\n",
    "  h = torch.tanh(hpreact) # (N, n_hidden)\n",
    "  logits = h @ W2 + b2 # (N, vocab_size)\n",
    "  loss = F.cross_entropy(logits, y)\n",
    "  print(split, loss.item())\n",
    "\n",
    "split_loss('train')\n",
    "split_loss('val')"
   ]
  },
  {
   "cell_type": "code",
   "execution_count": 28,
   "metadata": {
    "id": "esWqmhyj8PP1"
   },
   "outputs": [],
   "source": [
    "# I achieved:\n",
    "# train 2.0718822479248047\n",
    "# val 2.1162495613098145"
   ]
  },
  {
   "cell_type": "code",
   "execution_count": 33,
   "metadata": {
    "id": "xHeQNv3s8PP1"
   },
   "outputs": [
    {
     "name": "stdout",
     "output_type": "stream",
     "text": [
      "mona.\n",
      "mayah.\n",
      "see.\n",
      "mad.\n",
      "ryla.\n",
      "reisantengrach.\n",
      "adelyn.\n",
      "elin.\n",
      "shi.\n",
      "jen.\n",
      "eden.\n",
      "estanaraelyn.\n",
      "malka.\n",
      "cayshabergihamies.\n",
      "kindreelynn.\n",
      "novana.\n",
      "ubrence.\n",
      "ryyah.\n",
      "faeh.\n",
      "yuma.\n"
     ]
    }
   ],
   "source": [
    "# sample from the model\n",
    "g = torch.Generator().manual_seed(2147483647 + 10)\n",
    "\n",
    "for _ in range(20):\n",
    "\n",
    "    out = []\n",
    "    context = [0] * block_size # initialize with all ...\n",
    "    while True:\n",
    "      # forward pass\n",
    "      emb = C[torch.tensor([context])] # (1,block_size,d)\n",
    "      embcat = emb.view(emb.shape[0], -1) # concat into (N, block_size * n_embd)\n",
    "      hpreact = embcat @ W1 + b1\n",
    "      hpreact = bngain * (hpreact - bnmean) * (bnvar + 1e-5)**-0.5 + bnbias\n",
    "      h = torch.tanh(hpreact) # (N, n_hidden)\n",
    "      logits = h @ W2 + b2 # (N, vocab_size)\n",
    "      # sample\n",
    "      probs = F.softmax(logits, dim=1)\n",
    "      ix = torch.multinomial(probs, num_samples=1, generator=g).item()\n",
    "      context = context[1:] + [ix]\n",
    "      out.append(ix)\n",
    "      if ix == 0:\n",
    "        break\n",
    "\n",
    "    print(''.join(itos[i] for i in out))"
   ]
  },
  {
   "cell_type": "code",
   "execution_count": null,
   "metadata": {},
   "outputs": [],
   "source": []
  }
 ],
 "metadata": {
  "colab": {
   "provenance": []
  },
  "kernelspec": {
   "display_name": "Python 3 (ipykernel)",
   "language": "python",
   "name": "python3"
  },
  "language_info": {
   "codemirror_mode": {
    "name": "ipython",
    "version": 3
   },
   "file_extension": ".py",
   "mimetype": "text/x-python",
   "name": "python",
   "nbconvert_exporter": "python",
   "pygments_lexer": "ipython3",
   "version": "3.11.5"
  }
 },
 "nbformat": 4,
 "nbformat_minor": 4
}
